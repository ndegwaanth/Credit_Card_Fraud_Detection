{
  "cells": [
    {
      "cell_type": "markdown",
      "metadata": {
        "id": "view-in-github",
        "colab_type": "text"
      },
      "source": [
        "<a href=\"https://colab.research.google.com/github/ndegwaanth/Credit_Card_Fraud_Detection/blob/main/Credit_card_fraud_detection.ipynb\" target=\"_parent\"><img src=\"https://colab.research.google.com/assets/colab-badge.svg\" alt=\"Open In Colab\"/></a>"
      ]
    },
    {
      "cell_type": "code",
      "execution_count": null,
      "metadata": {
        "id": "kWIvBKSsHbby"
      },
      "outputs": [],
      "source": [
        "from sklearn.ensemble import RandomForestClassifier\n",
        "from sklearn.model_selection import train_test_split\n",
        "from sklearn.metrics import accuracy_score\n",
        "from sklearn.preprocessing import StandardScaler\n",
        "import pandas as pd\n",
        "import numpy as np\n",
        "import matplotlib.pyplot as plt\n",
        "import seaborn as sns\n",
        "import warnings\n",
        "warnings.filterwarnings(\"ignore\")"
      ]
    },
    {
      "cell_type": "code",
      "execution_count": null,
      "metadata": {
        "id": "EXMvJm_NImzI"
      },
      "outputs": [],
      "source": [
        "df = pd.read_csv('/content/creditcard.csv')\n",
        "df.head()"
      ]
    },
    {
      "cell_type": "code",
      "execution_count": null,
      "metadata": {
        "id": "cjy2jHUbOE_c"
      },
      "outputs": [],
      "source": [
        "df.columns"
      ]
    },
    {
      "cell_type": "code",
      "execution_count": null,
      "metadata": {
        "id": "fdcJA9DNOIsx"
      },
      "outputs": [],
      "source": [
        "df.shape"
      ]
    },
    {
      "cell_type": "code",
      "execution_count": null,
      "metadata": {
        "id": "7jpp_A4OOMR4"
      },
      "outputs": [],
      "source": [
        "df.info()"
      ]
    },
    {
      "cell_type": "code",
      "execution_count": null,
      "metadata": {
        "id": "j7B9bcpxOWmf"
      },
      "outputs": [],
      "source": [
        "df.describe()"
      ]
    },
    {
      "cell_type": "code",
      "execution_count": null,
      "metadata": {
        "id": "P1Sesus1Q8e3"
      },
      "outputs": [],
      "source": [
        "df.drop(['Time'], axis=1, inplace=True)"
      ]
    },
    {
      "cell_type": "code",
      "execution_count": null,
      "metadata": {
        "id": "vrRgVx3RRj2P"
      },
      "outputs": [],
      "source": [
        "df.head()"
      ]
    },
    {
      "cell_type": "code",
      "execution_count": null,
      "metadata": {
        "id": "9DrZKti0RpdN"
      },
      "outputs": [],
      "source": [
        "scaler = StandardScaler()\n",
        "df['Amount'] = scaler.fit_transform(df['Amount'].values.reshape(-1,1)) # Reshape the 'Amount' column into a 2D array"
      ]
    },
    {
      "cell_type": "code",
      "execution_count": null,
      "metadata": {
        "id": "E89gDtacSH21"
      },
      "outputs": [],
      "source": [
        "df.head()"
      ]
    },
    {
      "cell_type": "code",
      "execution_count": null,
      "metadata": {
        "id": "TU6BZ5DGStUa"
      },
      "outputs": [],
      "source": [
        "df.duplicated().sum()"
      ]
    },
    {
      "cell_type": "code",
      "execution_count": null,
      "metadata": {
        "id": "7-ss-YDQTIZ8"
      },
      "outputs": [],
      "source": [
        "df = df.drop_duplicates()"
      ]
    },
    {
      "cell_type": "code",
      "execution_count": null,
      "metadata": {
        "id": "bsc9DxUJTgy3"
      },
      "outputs": [],
      "source": [
        "df.duplicated().sum()"
      ]
    },
    {
      "cell_type": "code",
      "execution_count": null,
      "metadata": {
        "id": "9SSIWc1lTidU"
      },
      "outputs": [],
      "source": [
        "df.shape"
      ]
    },
    {
      "cell_type": "code",
      "execution_count": null,
      "metadata": {
        "id": "H75DfMbTTmjz"
      },
      "outputs": [],
      "source": [
        "df['Class'].value_counts()"
      ]
    },
    {
      "cell_type": "code",
      "execution_count": null,
      "metadata": {
        "id": "Yk87vPlF0a_C"
      },
      "outputs": [],
      "source": [
        "df.isna().sum()"
      ]
    },
    {
      "cell_type": "code",
      "execution_count": null,
      "metadata": {
        "id": "41GBh-S_0jwg"
      },
      "outputs": [],
      "source": [
        "df['Class'].fillna(df['Class'].mode()[0], inplace=True)"
      ]
    },
    {
      "cell_type": "code",
      "execution_count": null,
      "metadata": {
        "id": "ERsTG_oh01po"
      },
      "outputs": [],
      "source": [
        "df.isna().any()"
      ]
    },
    {
      "cell_type": "code",
      "execution_count": null,
      "metadata": {
        "id": "iepylSpMXQ3U"
      },
      "outputs": [],
      "source": [
        "sns.countplot(x='Class', data=df)\n",
        "plt.show()"
      ]
    },
    {
      "cell_type": "code",
      "source": [
        "for col in df.columns:\n",
        "  plt.figure(figsize=(12, 4))\n",
        "  sns.countplot(data=df, x=col)\n",
        "  plt.title(f'credit fraud countplot for {col}')\n",
        "  plt.show()"
      ],
      "metadata": {
        "id": "y9C5xwgRDz-x"
      },
      "execution_count": null,
      "outputs": []
    },
    {
      "cell_type": "code",
      "execution_count": null,
      "metadata": {
        "id": "NaBX22ppw0Bg"
      },
      "outputs": [],
      "source": [
        "from sklearn.linear_model import LogisticRegression\n",
        "from sklearn.tree import DecisionTreeClassifier\n",
        "from sklearn.metrics import f1_score, precision_score, recall_score, confusion_matrix"
      ]
    },
    {
      "cell_type": "code",
      "execution_count": null,
      "metadata": {
        "id": "lC97UbJ0xU42"
      },
      "outputs": [],
      "source": [
        "X = df.drop('Class', axis=1)\n",
        "y = df['Class']"
      ]
    },
    {
      "cell_type": "code",
      "execution_count": null,
      "metadata": {
        "id": "4OxFrGldxmYr"
      },
      "outputs": [],
      "source": [
        "X_train, X_test, y_train, y_test = train_test_split(X, y, test_size=0.2, random_state=42)"
      ]
    },
    {
      "cell_type": "code",
      "execution_count": null,
      "metadata": {
        "id": "om8EWHoTyN0i"
      },
      "outputs": [],
      "source": [
        "model = {\n",
        "    'Logistics Regression': LogisticRegression(),\n",
        "    'Decision Tress Classifier': DecisionTreeClassifier(),\n",
        "    'Random Forest Classifier': RandomForestClassifier()\n",
        "}\n",
        "\n",
        "for model_name, model in model.items():\n",
        "  print(f\"\\n=========== {model_name}==============\")\n",
        "  model.fit(X_train, y_train)\n",
        "  y_pred = model.predict(X_test)\n",
        "  print(f\"Accuracy Score: {accuracy_score(y_test, y_pred)}\")\n",
        "  print(f\"\\n Precision Score: {precision_score(y_test, y_pred)}\")\n",
        "  print(f\"\\n Recall Score: {recall_score(y_test, y_pred)}\")\n",
        "  print(f\"\\n F1 Score: {f1_score(y_test, y_pred)}\")\n",
        "\n",
        "  cnf = confusion_matrix(y_test, y_pred)\n",
        "  sns.heatmap(cnf, annot=True, fmt='d', cmap='Blues')\n",
        "  plt.title(f'Confusion Matrix for {model_name}')\n",
        "  plt.xlabel('Predicted Labels')\n",
        "  plt.ylabel('True Labels')\n",
        "  plt.show()"
      ]
    },
    {
      "cell_type": "markdown",
      "metadata": {
        "id": "-6cojJ265Q0a"
      },
      "source": [
        "### UNDERSAMPLING"
      ]
    },
    {
      "cell_type": "code",
      "execution_count": null,
      "metadata": {
        "id": "A8z9I8df2w0_"
      },
      "outputs": [],
      "source": [
        "norma_df = df[df['Class']==0]\n",
        "fraud_df = df[df['Class']==1]"
      ]
    },
    {
      "cell_type": "code",
      "execution_count": null,
      "metadata": {
        "id": "k0yJadZ53Ezr"
      },
      "outputs": [],
      "source": [
        "norma_df.shape"
      ]
    },
    {
      "cell_type": "code",
      "execution_count": null,
      "metadata": {
        "id": "XTp4dIpI3InE"
      },
      "outputs": [],
      "source": [
        "fraud_df.shape"
      ]
    },
    {
      "cell_type": "code",
      "execution_count": null,
      "metadata": {
        "id": "e4f-kBhh5ZVY"
      },
      "outputs": [],
      "source": [
        "normal_sample = norma_df.sample(n=473)"
      ]
    },
    {
      "cell_type": "code",
      "execution_count": null,
      "metadata": {
        "id": "0rQRnLuv5kdQ"
      },
      "outputs": [],
      "source": [
        "normal_sample.shape"
      ]
    },
    {
      "cell_type": "code",
      "execution_count": null,
      "metadata": {
        "id": "S4ZzeRex5sl5"
      },
      "outputs": [],
      "source": [
        "new_df = pd.concat([normal_sample, fraud_df], ignore_index=True)\n",
        "new_df.head()"
      ]
    },
    {
      "cell_type": "code",
      "source": [
        "new_df['Class'].value_counts()"
      ],
      "metadata": {
        "id": "Q_5esctz_XW3"
      },
      "execution_count": null,
      "outputs": []
    },
    {
      "cell_type": "code",
      "source": [
        "X_df = new_df.drop('Class', axis=1)\n",
        "y_df = new_df['Class']"
      ],
      "metadata": {
        "id": "Iv3iEPh5_ht3"
      },
      "execution_count": null,
      "outputs": []
    },
    {
      "cell_type": "code",
      "source": [
        "X_test_1, X_train_1, y_test_1, y_train_1 = train_test_split(X_df, y_df, test_size=0.2, random_state=42)"
      ],
      "metadata": {
        "id": "2xfZwpHX_oku"
      },
      "execution_count": null,
      "outputs": []
    },
    {
      "cell_type": "code",
      "source": [
        "model = {\n",
        "    'Logistics Regression': LogisticRegression(),\n",
        "    'Decision Tress Classifier': DecisionTreeClassifier(),\n",
        "    'Random Forest Classifier': RandomForestClassifier()\n",
        "}\n",
        "\n",
        "for model_name, model in model.items():\n",
        "  print(f\"\\n=========== {model_name}==============\")\n",
        "  model.fit(X_train_1, y_train_1)\n",
        "  y_pred_1 = model.predict(X_test_1)\n",
        "  print(f\"Accuracy Score: {accuracy_score(y_test_1, y_pred_1)}\")\n",
        "  print(f\"\\n Precision Score: {precision_score(y_test_1, y_pred_1)}\")\n",
        "  print(f\"\\n Recall Score: {recall_score(y_test_1, y_pred_1)}\")\n",
        "  print(f\"\\n F1 Score: {f1_score(y_test_1, y_pred_1)}\")\n",
        "\n",
        "  cnf = confusion_matrix(y_test_1, y_pred_1)\n",
        "  sns.heatmap(cnf, annot=True, fmt='d', cmap='Blues')\n",
        "  plt.title(f'Confusion Matrix for {model_name}')\n",
        "  plt.xlabel('Predicted Labels')\n",
        "  plt.ylabel('True Labels')\n",
        "  plt.show()"
      ],
      "metadata": {
        "id": "kLQWkAkY_0ne"
      },
      "execution_count": null,
      "outputs": []
    },
    {
      "cell_type": "markdown",
      "metadata": {
        "id": "ugdeDgWh5E0A"
      },
      "source": [
        "### OVERSAMPLING"
      ]
    },
    {
      "cell_type": "code",
      "execution_count": null,
      "metadata": {
        "id": "BbccURFA2CVw"
      },
      "outputs": [],
      "source": [
        "from imblearn.over_sampling import SMOTE\n"
      ]
    },
    {
      "cell_type": "code",
      "execution_count": null,
      "metadata": {
        "id": "Tarki5dy2Ofx"
      },
      "outputs": [],
      "source": [
        "smote = SMOTE(random_state=42)\n",
        "X_resampled, y_resampled = smote.fit_resample(X, y)"
      ]
    },
    {
      "cell_type": "code",
      "execution_count": null,
      "metadata": {
        "id": "feQL-utc3_Zj"
      },
      "outputs": [],
      "source": [
        "X_resampled.shape"
      ]
    },
    {
      "cell_type": "code",
      "execution_count": null,
      "metadata": {
        "id": "IjBu30th4DY8"
      },
      "outputs": [],
      "source": [
        "y_resampled.shape"
      ]
    },
    {
      "cell_type": "code",
      "execution_count": null,
      "metadata": {
        "id": "iQzYTWCE4G4H"
      },
      "outputs": [],
      "source": [
        "X_train, X_test, y_train, y_test = train_test_split(X_resampled, y_resampled, test_size=0.2, random_state=42)"
      ]
    },
    {
      "cell_type": "code",
      "execution_count": null,
      "metadata": {
        "id": "Z-y8BXRH4hDu"
      },
      "outputs": [],
      "source": [
        "model = {\n",
        "    'Logistics Regression': LogisticRegression(),\n",
        "    'Decision Tress Classifier': DecisionTreeClassifier(),\n",
        "    'Random Forest Classifier': RandomForestClassifier()\n",
        "}\n",
        "\n",
        "for model_name, model in model.items():\n",
        "  print(f\"\\n=========== {model_name}==============\")\n",
        "  model.fit(X_train, y_train)\n",
        "  y_pred = model.predict(X_test)\n",
        "  print(f\"Accuracy Score: {accuracy_score(y_test, y_pred)}\")\n",
        "  print(f\"\\n Precision Score: {precision_score(y_test, y_pred)}\")\n",
        "  print(f\"\\n Recall Score: {recall_score(y_test, y_pred)}\")\n",
        "  print(f\"\\n F1 Score: {f1_score(y_test, y_pred)}\")\n",
        "\n",
        "  cnf = confusion_matrix(y_test, y_pred)\n",
        "  sns.heatmap(cnf, annot=True, fmt='d', cmap='Blues')\n",
        "  plt.title(f'Confusion Matrix for {model_name}')\n",
        "  plt.xlabel('Predicted Labels')\n",
        "  plt.ylabel('True Labels')\n",
        "  plt.show()"
      ]
    },
    {
      "cell_type": "code",
      "execution_count": null,
      "metadata": {
        "id": "-tMXZGe94tvE"
      },
      "outputs": [],
      "source": [
        "y_resampled.value_counts()"
      ]
    },
    {
      "cell_type": "code",
      "source": [
        "import pickle\n",
        "\n",
        "with open(\"Logistic_credic_model.pkl\", \"wb\") as file:\n",
        "  pickle.dump(model['Logistics Regression'], file)\n",
        "with open(\"Decision_Tress_Classifier_model.pkl\", \"wb\") as file:\n",
        "  pickle.dump(model['Decision Tress Classifier'], file)\n",
        "with open(\"Random_Forest_Classifier.pkl\", \"wb\") as file:\n",
        "  pickle.dump(model['Random Forest Classifier'], file)"
      ],
      "metadata": {
        "id": "Or77g9_pAoUk"
      },
      "execution_count": null,
      "outputs": []
    },
    {
      "cell_type": "code",
      "source": [
        "with open(\"Logistic_credic_model.pkl\", \"wb\") as file:\n",
        "  logistic_model = pickle.load(file)\n",
        "with open(\"Decision_Tress_Classifier_model.pkl\", \"wb\") as file:\n",
        "  decision_model = pickle.load(file)\n",
        "with open(\"Random_Forest_Classifier.pkl\", \"wb\") as file:\n",
        "  random_model = pickle.load(file)\n"
      ],
      "metadata": {
        "id": "ajD94_6sGbNJ"
      },
      "execution_count": null,
      "outputs": []
    },
    {
      "cell_type": "code",
      "source": [
        "def model_prediction_with_logistic(input_data):\n"
      ],
      "metadata": {
        "id": "YjK04PPvHKhQ"
      },
      "execution_count": null,
      "outputs": []
    },
    {
      "cell_type": "code",
      "source": [],
      "metadata": {
        "id": "DPPUCQX4Hd2t"
      },
      "execution_count": null,
      "outputs": []
    }
  ],
  "metadata": {
    "colab": {
      "provenance": [],
      "authorship_tag": "ABX9TyNiPcmSndzNuUp7/HAwI9vV",
      "include_colab_link": true
    },
    "kernelspec": {
      "display_name": "Python 3",
      "name": "python3"
    },
    "language_info": {
      "name": "python"
    }
  },
  "nbformat": 4,
  "nbformat_minor": 0
}